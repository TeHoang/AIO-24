{
 "cells": [
  {
   "cell_type": "code",
   "execution_count": 2,
   "metadata": {},
   "outputs": [],
   "source": [
    "def md_nre_single_sample(y: float, yhat: float, n: int, p: int) -> float:\n",
    "    return (y ** (1 / n) - yhat ** (1 / n)) ** p "
   ]
  },
  {
   "cell_type": "code",
   "execution_count": 5,
   "metadata": {},
   "outputs": [
    {
     "name": "stdout",
     "output_type": "stream",
     "text": [
      "0.025031328369998107\n",
      "0.03544417213033135\n",
      "0.05625552183565574\n",
      "0.45836890322464546\n"
     ]
    }
   ],
   "source": [
    "print(md_nre_single_sample(y=100, yhat=99.5, n=2, p=1))\n",
    "print(md_nre_single_sample(y=50, yhat=49.5, n=2, p=1))\n",
    "print(md_nre_single_sample(y=20, yhat=19.5, n=2, p=1))\n",
    "print(md_nre_single_sample(y=0.6, yhat=0.1, n=2, p=1))"
   ]
  }
 ],
 "metadata": {
  "kernelspec": {
   "display_name": "aio",
   "language": "python",
   "name": "python3"
  },
  "language_info": {
   "codemirror_mode": {
    "name": "ipython",
    "version": 3
   },
   "file_extension": ".py",
   "mimetype": "text/x-python",
   "name": "python",
   "nbconvert_exporter": "python",
   "pygments_lexer": "ipython3",
   "version": "3.10.13"
  }
 },
 "nbformat": 4,
 "nbformat_minor": 2
}
