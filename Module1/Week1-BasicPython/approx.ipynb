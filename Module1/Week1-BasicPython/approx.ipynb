{
 "cells": [
  {
   "cell_type": "code",
   "execution_count": 4,
   "metadata": {},
   "outputs": [],
   "source": [
    "fac = [1] * 100 \n",
    "for i in range(2, len(fac)):\n",
    "    fac[i] = fac[i - 1] * i "
   ]
  },
  {
   "cell_type": "code",
   "execution_count": 22,
   "metadata": {},
   "outputs": [],
   "source": [
    "def approx_sin(x: float, n: int) -> float:\n",
    "    assert isinstance(n, int) and n > 0, \"n must be integer > 0\"\n",
    "    assert isinstance(x, float), \"x must be radian\"\n",
    "\n",
    "    result = 0\n",
    "\n",
    "    for i in range(n):\n",
    "        result += (-1) ** i * x ** (2 * i + 1) / fac[2 * i + 1]\n",
    "\n",
    "    return result\n",
    "\n",
    "def approx_cos(x: float, n: int) -> float:\n",
    "    assert isinstance(n, int) and n > 0, \"n must be integer > 0\"\n",
    "    assert isinstance(x, float), \"x must be radian\"\n",
    "\n",
    "    result = 0\n",
    "\n",
    "    for i in range(n):\n",
    "        result += (-1) ** i * x ** (2 * i) / fac[2 * i]\n",
    "\n",
    "    return result \n",
    "\n",
    "def approx_sinh(x: float, n: int) -> float:\n",
    "    assert isinstance(n, int) and n > 0, \"n must be integer > 0\"\n",
    "    assert isinstance(x, float), \"x must be radian\"\n",
    "\n",
    "    result = 0\n",
    "\n",
    "    for i in range(n):\n",
    "        result += x ** (2 * i + 1) / fac[2 * i + 1]\n",
    "    \n",
    "    return result \n",
    "\n",
    "def approx_cosh(x: float, n: int) -> float:\n",
    "    assert isinstance(n, int) and n > 0, \"n must be integer > 0\"\n",
    "    assert isinstance(x, float), \"x must be radian\"\n",
    "\n",
    "    result = 0\n",
    "\n",
    "    for i in range(n):\n",
    "        result += x ** (2 * i) / fac[2 * i]\n",
    "    \n",
    "    return result "
   ]
  },
  {
   "cell_type": "code",
   "execution_count": 23,
   "metadata": {},
   "outputs": [
    {
     "name": "stdout",
     "output_type": "stream",
     "text": [
      "0.001592652393160744\n",
      "-0.9999987352210833\n",
      "11.530292029865986\n",
      "11.573574824666185\n"
     ]
    }
   ],
   "source": [
    "print(approx_sin(x=3.14, n=10))\n",
    "print(approx_cos(x=3.14, n=10))\n",
    "print(approx_sinh(x=3.14, n=10))\n",
    "print(approx_cosh(x=3.14, n=10))"
   ]
  }
 ],
 "metadata": {
  "kernelspec": {
   "display_name": "aio",
   "language": "python",
   "name": "python3"
  },
  "language_info": {
   "codemirror_mode": {
    "name": "ipython",
    "version": 3
   },
   "file_extension": ".py",
   "mimetype": "text/x-python",
   "name": "python",
   "nbconvert_exporter": "python",
   "pygments_lexer": "ipython3",
   "version": "3.10.13"
  }
 },
 "nbformat": 4,
 "nbformat_minor": 2
}
