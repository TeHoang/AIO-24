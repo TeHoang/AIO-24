{
 "cells": [
  {
   "cell_type": "code",
   "execution_count": 1,
   "metadata": {},
   "outputs": [],
   "source": [
    "import numpy as np\n",
    "import cv2\n",
    "bg1_image = cv2.imread('./img/GreenBackground.png', 1)\n",
    "bg1_image = cv2.resize(bg1_image, (678,381))\n",
    "ob_image = cv2.imread('./img/Object.png', 1)\n",
    "ob_image = cv2.resize(ob_image, (678 , 381) )\n",
    "\n",
    "bg2_image = cv2.imread('./img/NewBackground.jpg', 1)\n",
    "bg2_image = cv2.resize(bg2_image,(678 , 381))"
   ]
  },
  {
   "cell_type": "code",
   "execution_count": 2,
   "metadata": {},
   "outputs": [],
   "source": [
    "def compute_difference(bg_img, input_img):\n",
    "    diff = cv2.absdiff(bg_img, input_img)\n",
    "    diff = np.sum(diff, axis=2) / 3.0\n",
    "    diff = diff.astype(np.uint8)\n",
    "    return diff "
   ]
  },
  {
   "cell_type": "code",
   "execution_count": 3,
   "metadata": {},
   "outputs": [],
   "source": [
    "diff = compute_difference(bg1_image, ob_image)\n",
    "cv2.imshow('diff', diff)"
   ]
  },
  {
   "cell_type": "code",
   "execution_count": 4,
   "metadata": {},
   "outputs": [],
   "source": [
    "def compute_binary_mask(diff):\n",
    "    diff_bin = np.where(diff >= 15, 255, 0)\n",
    "    diff_bin = np.stack((diff_bin) * 3, axis = -1)\n",
    "    return diff_bin"
   ]
  },
  {
   "cell_type": "code",
   "execution_count": 5,
   "metadata": {},
   "outputs": [],
   "source": [
    "def replace_background(bg1_image, bg2_image, ob_image):\n",
    "    diff = compute_difference(bg1_image, ob_image)\n",
    "    mask = compute_binary_mask(diff)\n",
    "    result = np.where(mask==255, ob_image, bg2_image)\n",
    "    return result "
   ]
  }
 ],
 "metadata": {
  "kernelspec": {
   "display_name": "aio",
   "language": "python",
   "name": "python3"
  },
  "language_info": {
   "codemirror_mode": {
    "name": "ipython",
    "version": 3
   },
   "file_extension": ".py",
   "mimetype": "text/x-python",
   "name": "python",
   "nbconvert_exporter": "python",
   "pygments_lexer": "ipython3",
   "version": "undefined.undefined.undefined"
  }
 },
 "nbformat": 4,
 "nbformat_minor": 2
}
