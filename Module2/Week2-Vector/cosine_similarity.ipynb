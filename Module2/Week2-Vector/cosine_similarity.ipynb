{
 "cells": [
  {
   "cell_type": "markdown",
   "metadata": {},
   "source": [
    "$x = (1, 2, 3, 4), y = (1, 0, 3, 0)$\n",
    "\n",
    "$x \\cdot y = 1 + 0 + 9 + 0 = 10$ \n",
    "\n",
    "$||x|| = \\sqrt{1^2 + 2^2 + 3^2 + 4^2} = 5.48$\n",
    "\n",
    "$||y|| = \\sqrt{1^2 + 0^2 + 3^2 + 0^2} = 3.16$ \n",
    "\n",
    "$cs(x, y) = \\dfrac{10}{17.32} = 0.577$"
   ]
  },
  {
   "cell_type": "code",
   "execution_count": 1,
   "metadata": {},
   "outputs": [],
   "source": [
    "import numpy as np \n",
    "\n",
    "def compute_cosine(v1, v2): \n",
    "    def compute_length(v): \n",
    "        l = np.linalg.norm(v)\n",
    "        return l \n",
    "    result = v1.dot(v2) / (compute_length(v1) * compute_length(v2))\n",
    "    return result"
   ]
  },
  {
   "cell_type": "code",
   "execution_count": 2,
   "metadata": {},
   "outputs": [
    {
     "name": "stdout",
     "output_type": "stream",
     "text": [
      "0.5773502691896257\n"
     ]
    }
   ],
   "source": [
    "x = np.array([1, 2, 3, 4])\n",
    "y = np.array([1, 0, 3, 0])\n",
    "\n",
    "print(compute_cosine(x, y))"
   ]
  }
 ],
 "metadata": {
  "kernelspec": {
   "display_name": "aio",
   "language": "python",
   "name": "python3"
  },
  "language_info": {
   "codemirror_mode": {
    "name": "ipython",
    "version": 3
   },
   "file_extension": ".py",
   "mimetype": "text/x-python",
   "name": "python",
   "nbconvert_exporter": "python",
   "pygments_lexer": "ipython3",
   "version": "3.10.13"
  }
 },
 "nbformat": 4,
 "nbformat_minor": 2
}
