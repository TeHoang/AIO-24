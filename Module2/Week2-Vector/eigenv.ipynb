{
 "cells": [
  {
   "cell_type": "markdown",
   "metadata": {},
   "source": [
    "$$\n",
    "\\begin{aligned}\n",
    "\n",
    "&A = \n",
    "\\left(\\begin{array}{cc} \n",
    "0.9 & 0.2 \\\\ \n",
    "0.1 & 0.8 \\\\\n",
    "\n",
    "\\end{array}\\right)\n",
    "\\\\\n",
    "\n",
    "\\Rightarrow A - \\lambda I &= \n",
    "\\left(\\begin{array}{cc} \n",
    "0.9 - \\lambda & 0.2 \\\\ \n",
    "0.1 & 0.8 - \\lambda \\\\\n",
    "\n",
    "\\end{array}\\right)\n",
    "\n",
    "\\\\\n",
    "\n",
    "\\Rightarrow |A - \\lambda I| &= (0.9 - \\lambda) (0.8 - \\lambda) - (0.2) (0.1) = \\lambda^2 - 1.7\\lambda + 0.7 = 0 \\\\ \n",
    "&\\Rightarrow \\lambda \\in \\{0.7, 1\\} \\\\ \n",
    "\n",
    "\\lambda &= 0.7 \\\\\n",
    "\n",
    "\\Rightarrow Av &= \n",
    "\\left(\\begin{array}{cc} \n",
    "0.9x + 0.2y \\\\ \n",
    "0.1x + 0.8y \\\\\n",
    "\\end{array}\\right) \\\\\n",
    "&=\n",
    "\\left(\\begin{array}{cc} \n",
    "0.7x\\\\ \n",
    "0.7y \\\\\n",
    "\\end{array}\\right)\n",
    "= \\lambda v \n",
    "\n",
    "\\\\\n",
    "\n",
    "\\Rightarrow (x, y) &= (1, -1) \\\\\n",
    "\\Rightarrow v &= (\\dfrac{1}{\\sqrt{2}}, \\dfrac{-1}{\\sqrt{2}})\n",
    "\n",
    "\\\\\n",
    "\n",
    "\\lambda &= 1 \\\\\n",
    "\n",
    "\\Rightarrow Av &= \n",
    "\\left(\\begin{array}{cc} \n",
    "0.9x + 0.2y \\\\ \n",
    "0.1x + 0.8y \\\\\n",
    "\\end{array}\\right) \\\\\n",
    "&=\n",
    "\\left(\\begin{array}{cc} \n",
    "x\\\\ \n",
    "y \\\\\n",
    "\\end{array}\\right)\n",
    "= \\lambda v \n",
    "\n",
    "\\\\\n",
    "\n",
    "\\Rightarrow (x, y) &= (2, 1) \\\\\n",
    "\\Rightarrow v &= (\\dfrac{2}{\\sqrt{5}}, \\dfrac{1}{\\sqrt{5}})\n",
    "\n",
    "\\end{aligned}\n",
    "$$"
   ]
  },
  {
   "cell_type": "code",
   "execution_count": 1,
   "metadata": {},
   "outputs": [],
   "source": [
    "import numpy as np \n",
    "def compute_eigenvalues_eigenvectors(matrix):\n",
    "    eigenvalues, eigenvectors = np.linalg.eig(matrix)\n",
    "    return eigenvalues, eigenvectors"
   ]
  },
  {
   "cell_type": "code",
   "execution_count": 5,
   "metadata": {},
   "outputs": [
    {
     "name": "stdout",
     "output_type": "stream",
     "text": [
      "[[ 0.89442719 -0.70710678]\n",
      " [ 0.4472136   0.70710678]]\n"
     ]
    }
   ],
   "source": [
    "matrix = np.array([[0.9, 0.2], [0.1, 0.8]])\n",
    "eigenvalues, eigenvectors = compute_eigenvalues_eigenvectors(matrix)\n",
    "print(eigenvectors)"
   ]
  }
 ],
 "metadata": {
  "kernelspec": {
   "display_name": "aio",
   "language": "python",
   "name": "python3"
  },
  "language_info": {
   "codemirror_mode": {
    "name": "ipython",
    "version": 3
   },
   "file_extension": ".py",
   "mimetype": "text/x-python",
   "name": "python",
   "nbconvert_exporter": "python",
   "pygments_lexer": "ipython3",
   "version": "3.10.13"
  }
 },
 "nbformat": 4,
 "nbformat_minor": 2
}
