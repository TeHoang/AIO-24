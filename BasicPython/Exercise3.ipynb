{
 "cells": [
  {
   "cell_type": "code",
   "execution_count": 4,
   "metadata": {},
   "outputs": [],
   "source": [
    "import random \n",
    "import math "
   ]
  },
  {
   "cell_type": "code",
   "execution_count": 9,
   "metadata": {},
   "outputs": [],
   "source": [
    "def MAE(y: float, yhat: float) -> float: \n",
    "    return abs(y - yhat)\n",
    "\n",
    "def MSE(y: float, yhat: float) -> float: \n",
    "    return (y - yhat) ** 2 "
   ]
  },
  {
   "cell_type": "code",
   "execution_count": 10,
   "metadata": {},
   "outputs": [],
   "source": [
    "def exercise3() -> None:\n",
    "    numSamples = input(\"Input number of samples (integer number) which are generated: \")\n",
    "    assert numSamples.isnumeric(), \"number of samples must be an integer number\"\n",
    "\n",
    "    numSamples = int(numSamples)\n",
    "\n",
    "    lossName = input(\"Input loss name: \")\n",
    "    final = 0 \n",
    "\n",
    "    for sample in range(numSamples): \n",
    "        predict = random.uniform(0, 10)\n",
    "        target = random.uniform(0, 10)\n",
    "\n",
    "        loss = 0 \n",
    "\n",
    "        if lossName == \"MAE\":\n",
    "            loss = MAE(target, predict)\n",
    "\n",
    "        else: \n",
    "            loss = MSE(target, predict)\n",
    "\n",
    "        print(f\"loss name: {lossName}, sample: {sample}, pred: {predict}, target: {target}, loss: {loss}\")\n",
    "\n",
    "        final += loss \n",
    "    \n",
    "    if lossName == \"MAE\" or lossName == \"MSE\":\n",
    "        print(f\"final {lossName}: {final / numSamples}\")\n",
    "\n",
    "    elif lossName == \"RMSE\":\n",
    "        print(f\"final {lossName}: {math.sqrt(final / numSamples)}\")\n"
   ]
  },
  {
   "cell_type": "code",
   "execution_count": 11,
   "metadata": {},
   "outputs": [
    {
     "name": "stdout",
     "output_type": "stream",
     "text": [
      "loss name: RMSE, sample: 0, pred: 2.5225006323914267, target: 0.6981697990857749, loss: 3.328182989349694\n",
      "loss name: RMSE, sample: 1, pred: 5.412481485148268, target: 5.289197161637341, loss: 0.01519902442354677\n",
      "loss name: RMSE, sample: 2, pred: 9.131746637524444, target: 1.5293529355618796, loss: 57.796389999640056\n",
      "loss name: RMSE, sample: 3, pred: 2.9483031902666545, target: 7.963619748631407, loss: 25.15340018060766\n",
      "loss name: RMSE, sample: 4, pred: 6.901051272669575, target: 0.15863691170288519, loss: 45.46015141496985\n",
      "final RMSE: 5.133289853670662\n"
     ]
    }
   ],
   "source": [
    "exercise3()"
   ]
  },
  {
   "cell_type": "code",
   "execution_count": null,
   "metadata": {},
   "outputs": [],
   "source": [
    "# numSamples = 'aa'\n",
    "exercise3()"
   ]
  }
 ],
 "metadata": {
  "kernelspec": {
   "display_name": "aio",
   "language": "python",
   "name": "python3"
  },
  "language_info": {
   "codemirror_mode": {
    "name": "ipython",
    "version": 3
   },
   "file_extension": ".py",
   "mimetype": "text/x-python",
   "name": "python",
   "nbconvert_exporter": "python",
   "pygments_lexer": "ipython3",
   "version": "3.10.13"
  }
 },
 "nbformat": 4,
 "nbformat_minor": 2
}
