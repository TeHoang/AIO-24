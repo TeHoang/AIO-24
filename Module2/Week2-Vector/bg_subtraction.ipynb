{
 "cells": [
  {
   "cell_type": "code",
   "execution_count": null,
   "metadata": {},
   "outputs": [],
   "source": [
    "import numpy as np\n",
    "from google . colab . patches import cv2_imshow\n",
    "import cv2\n",
    "bg1_image = cv2. imread (’ GreenBackground . png ’, 1)\n",
    "bg1_image = cv2. resize ( bg1_image , (678 , 381) )\n",
    "ob_image = cv2 . imread (’Object . png ’, 1)\n",
    "ob_image = cv2 . resize ( ob_image , (678 , 381) )\n",
    "\n",
    " bg2_image = cv2. imread (’ NewBackground . jpg ’, 1)\n",
    " bg2_image = cv2. resize ( bg2_image , (678 , 381) )"
   ]
  }
 ],
 "metadata": {
  "language_info": {
   "name": "python"
  }
 },
 "nbformat": 4,
 "nbformat_minor": 2
}
